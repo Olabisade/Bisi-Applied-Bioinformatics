{
  "cells": [
    {
      "cell_type": "markdown",
      "metadata": {
        "id": "FkekGi6um5xh"
      },
      "source": [
        "[![Open In Colab](https://colab.research.google.com/assets/colab-badge.svg)](https://colab.research.google.com/github/thomasmanke/ABS/blob/main/Notebooks/MarkovChains/MC_002_Properties.ipynb)"
      ]
    },
    {
      "cell_type": "markdown",
      "metadata": {
        "id": "eBcpbeidC5tf"
      },
      "source": [
        "# Analysing Markov chain properties"
      ]
    },
    {
      "cell_type": "markdown",
      "metadata": {
        "id": "RvBkP1ymcFTV"
      },
      "source": [
        "## Preparations"
      ]
    },
    {
      "cell_type": "markdown",
      "metadata": {
        "id": "36CJgM09bhgx"
      },
      "source": [
        "Import Required Modules and Define Convenience Functions"
      ]
    },
    {
      "cell_type": "code",
      "execution_count": 2,
      "metadata": {
        "id": "9T6rVFQ5bMNZ"
      },
      "outputs": [],
      "source": [
        "import numpy as np\n",
        "import matplotlib.pyplot as plt\n",
        "\n",
        "def generate_sequence(P, s=0, T=100):\n",
        "\n",
        "  assert P.shape[0]==P.shape[1],         \"generate_sequence: P should be a squared matrix\"\n",
        "  assert np.allclose( P.sum(axis=1), 1), \"generate_sequence: P should be a stochastic matrix\"\n",
        "\n",
        "  ns = P.shape[0] # number of states\n",
        "  L = [s]         # initial state\n",
        "\n",
        "  # loop for T time steps\n",
        "  for t in range(T):\n",
        "    s = np.random.choice( ns, p = P[s, :] )\n",
        "    L.append(s)\n",
        "  return L"
      ]
    },
    {
      "cell_type": "markdown",
      "metadata": {
        "id": "loRGD_8Gaksa"
      },
      "source": [
        "Let's make sure we start from the same model (transition probabilities)"
      ]
    },
    {
      "cell_type": "code",
      "execution_count": 22,
      "metadata": {
        "id": "cdIUgzObalUp",
        "outputId": "9f77cf26-5d96-40ef-9232-f4220ce26952",
        "colab": {
          "base_uri": "https://localhost:8080/"
        }
      },
      "outputs": [
        {
          "output_type": "stream",
          "name": "stdout",
          "text": [
            "00001100000000000000111000011111111111000111101111111111111100111111111111111111111100000000011111110\n"
          ]
        }
      ],
      "source": [
        "P = np.array(\n",
        "    [[0.8, 0.2], \n",
        "     [0.1, 0.9]]\n",
        ")\n",
        "X=generate_sequence(P)\n",
        "print(*X, sep='')"
      ]
    },
    {
      "cell_type": "markdown",
      "metadata": {
        "id": "eyedJHsprYJy"
      },
      "source": [
        "## Probability of a Sequence\n",
        "\n"
      ]
    },
    {
      "cell_type": "markdown",
      "metadata": {
        "id": "sIfGKWKZe4di"
      },
      "source": [
        "The probability of an observed state sequence $X=(X_1, X_2, \\ldots X_T)=X_{1:T}$ is an important quantity: \n",
        "\n",
        "$$\n",
        "Pr(X|P) = Pr(X_1) Pr(X_2|X_1) Pr(X_3|X_2) \\cdots Pr(X_T|X_{T-1})\n",
        "$$\n",
        "\n",
        "It may be used to classify a given observation $X$ as more or less likely to emerge from different models\n",
        "\n",
        "$$\n",
        "Pr(X|P_1) < Pr(X|P_2) \n",
        "$$"
      ]
    },
    {
      "cell_type": "markdown",
      "metadata": {
        "id": "bBwl-jB0hC54"
      },
      "source": [
        "**Group Task (20 min)**: Strange coins\n",
        "\n",
        "Your favorite casino seems to use very strange coins and you try 2 different Markov models to model the occurence of heads (0) and tails (1). The transition probabilities read \n",
        "\n",
        "$$\n",
        "P_1 = \\begin{bmatrix} \n",
        "0.2   &  0.8 \\\\ \n",
        "0.8   &  0.2 \n",
        "\\end{bmatrix} \n",
        "$$\n",
        "\n",
        "\\\n",
        "\n",
        "$$\n",
        "P_2 = \\begin{bmatrix} \n",
        "0.8   &  0.2 \\\\ \n",
        "0.8   &  0.2 \n",
        "\\end{bmatrix} \n",
        "$$\n",
        "\n",
        "You also assume that the initial probability for observing heads (0) or tails (1) is 50% in both cases.\n",
        "\n",
        "1. Give a verbal account of the model and contrast this with a fair dice.\n",
        "2. Complete the code block below to calculate the probability of the sequence $X=0010000011$ under your model. \n",
        "3. Can you calculate the probability for a fair dice analytically (with a simple formula)?\n",
        "4. Exchange the results with the other group and decide which model is more likely.\n"
      ]
    },
    {
      "cell_type": "code",
      "execution_count": null,
      "metadata": {
        "id": "g51qgZ8xHr7d"
      },
      "outputs": [],
      "source": [
        "%%script echo Edit before executing\n",
        "X = [0,0,1,0,0,0,0,0,1,1]\n",
        "P = ...\n",
        "\n",
        "prob = ...                     # initial probability: P(x_1=0)\n",
        "# loop over all edges in chain \n",
        "for t in range( ... ):\n",
        "    x1= ...                   # current state\n",
        "    x2= ...                   # next state\n",
        "    prob = prob* ...          # probability update\n",
        "\n",
        "    # you might want to print for debugging\n",
        "    print('t={}, x1={}, x2={} P[s1,s2]={}'.format(t,x1,x2, P[x1,x2]) )\n",
        "\n",
        "print('prob (model)     =', prob)\n",
        "print('prob (fair dice) =', ... formula ? ...)"
      ]
    },
    {
      "cell_type": "markdown",
      "metadata": {
        "id": "MGXxgpsQtf8h"
      },
      "source": [
        "**Follow up:** Duplicate (repeat) the sequence $X$ to obtain a new $X$ with twice the length?  What can you say about the probability?"
      ]
    },
    {
      "cell_type": "markdown",
      "metadata": {
        "id": "UDOiqK2ieDXs"
      },
      "source": [
        "**Messages**\n",
        "- Markov Models are probabilistic models: given the transition matrix $P$ we can calculate many interesting probabilities\n",
        "- More specifically: the probability of a given sequences. Decreases with sequence length - better use logs for long sequences!\n",
        "- Two approaches: Mathematical Treatment of stochastic matrices vs Numerical Simulations (algorithmic efficiency)"
      ]
    },
    {
      "cell_type": "markdown",
      "metadata": {
        "id": "xxXf-xyvN89Z"
      },
      "source": [
        "## counting occurrences"
      ]
    },
    {
      "cell_type": "code",
      "execution_count": 12,
      "metadata": {
        "id": "Bjew5NxYOCrW",
        "outputId": "030ff477-a43f-4791-bf35-491710e2bac3",
        "colab": {
          "base_uri": "https://localhost:8080/",
          "height": 265
        }
      },
      "outputs": [
        {
          "output_type": "display_data",
          "data": {
            "text/plain": [
              "<Figure size 432x288 with 1 Axes>"
            ],
            "image/png": "[encoded data removed]"
          },
          "metadata": {
            "needs_background": "light"
          }
        }
      ],
      "source": [
        "# define new transition matrix\n",
        "P = np.array( [[0.8, 0.2], [0.1, 0.9]] )\n",
        "np.random.seed(42)\n",
        "X = generate_sequence(P, s=0)\n",
        "\n",
        "states, counts = np.unique(X, return_counts=True)\n",
        "B = plt.bar(states.astype(str), counts, align='center', width=0.2)"
      ]
    },
    {
      "cell_type": "markdown",
      "metadata": {
        "id": "BCmuXb-EZZN1"
      },
      "source": [
        "**Task (5 min):** \n",
        "\n",
        "Repeat the above plot for different initial states s and different length of sequences. \n",
        "\n",
        "What do you observe?\n",
        "\n",
        "---\n"
      ]
    },
    {
      "cell_type": "markdown",
      "metadata": {
        "id": "kg9FQsbgYAXx"
      },
      "source": [
        "## Calculating higher order probabilities\n",
        "\n"
      ]
    },
    {
      "cell_type": "markdown",
      "metadata": {
        "id": "l8PLIggIpQey"
      },
      "source": [
        "A Markov Model is defined by all 1-step transition probabilities: $P_{ij}$ (for $i \\to j$). "
      ]
    },
    {
      "cell_type": "markdown",
      "metadata": {
        "id": "ikuledjoRgUC"
      },
      "source": [
        "What is the probability for transitions $i \\to j$ in 2 steps, 3 steps, ...t-steps?\n",
        "\n",
        "$$P_{ij}(t) = P(X_t = j | X_0 = i)$$"
      ]
    },
    {
      "cell_type": "markdown",
      "metadata": {
        "id": "LL1uJdIYiBW6"
      },
      "source": [
        "**Group task (15 min):**  Consider a specific case for the given $P$ above.\n",
        "Starting at $t=0$ in *state i=0*, what are the probabilities at time $t$\n",
        "\n",
        "Group 1:  to be in *state j=0*?\n",
        "\n",
        "Group 2:  to be in *state j=1*?\n",
        "\n",
        "In other words:  Group 1 $\\to$ Calculate $P_{00}(t)$. Group 2 $\\to$ Calculate $P_{01}(t)$.\n",
        "\n",
        "a) at time t=1 ?\n",
        "    \n",
        "b) at time t=2 ?\n",
        "\n",
        "**Hint:** Consider all paths that go from $i \\to j$ "
      ]
    },
    {
      "cell_type": "code",
      "execution_count": 13,
      "metadata": {
        "id": "-88xYRiOiBW6",
        "outputId": "f10f37a1-dbbd-4025-f2d3-2a5b0614df36",
        "colab": {
          "base_uri": "https://localhost:8080/"
        }
      },
      "outputs": [
        {
          "output_type": "stream",
          "name": "stdout",
          "text": [
            "0.2\n",
            "P01(t=1):  0.2\n",
            "P01(t=2):  0.16000000000000003\n",
            "P01(t=2):  0.18000000000000002\n",
            "P00(t=1):  0.8\n",
            "P00(t=2):  0.6400000000000001\n",
            "P00(t=2):  0.020000000000000004\n",
            "0.3400000000000001\n",
            "0.6600000000000001\n"
          ]
        }
      ],
      "source": [
        "#%%script echo Edit before executing\n",
        "P = np.array([[0.8, 0.2], [0.1, 0.9]])\n",
        "print(P[0,1])\n",
        "print('P01(t=1): ',P[0,1])\n",
        "print('P01(t=2): ', P[0,0]*P[0,1])\n",
        "print('P01(t=2): ', P[0,1]*P[1,1])\n",
        "print('P00(t=1): ', P[0,0]) \n",
        "print('P00(t=2): ', P[0,0]*P[0,0]) \n",
        "print('P00(t=2): ', P[0,1]*P[1,0])\n",
        "print(P[0,0]*P[0,1]+P[0,1]*P[1,1])\n",
        "print(P[0,0]*P[0,0]+P[0,1]*P[1,0])"
      ]
    },
    {
      "cell_type": "markdown",
      "metadata": {
        "id": "Ju87QJrnmYwW"
      },
      "source": [
        "For larger $t$, these calculations can fast become cumbersome ..."
      ]
    },
    {
      "cell_type": "markdown",
      "metadata": {
        "id": "rHIuANrqDKaH"
      },
      "source": [
        "### Generalization and Simplification"
      ]
    },
    {
      "cell_type": "markdown",
      "metadata": {
        "id": "yh8MM62vEvbZ"
      },
      "source": [
        "Required Tools:\n",
        "1. Matrix Multiplication: $C_{ij} = \\sum_k A_{ik}B_{kj}$\n",
        "2. Marginalization: $P(A) = \\sum_B P(A|B) P(B)$"
      ]
    },
    {
      "cell_type": "markdown",
      "metadata": {
        "id": "rzd27UXwR9C2"
      },
      "source": [
        "1. **Initialization:**  $P_{ij}(t=0) = \\delta_{ij}$\n",
        "2. **1-step probabilties:**  $P_{ij}(t=1) = P_{ij}$  (Definition of Markov Chain)\n",
        "3. **Recursion:** (marginalization over all states at time $t$)\n",
        "\n",
        "$$\n",
        "\\begin{align}\n",
        " Pr(X_{t+1}=j|X_0=i) &= \\sum_k Pr(X_{t+1}=j | X_t=k, X_0=i) \\cdot Pr(X_t=k|X_0=i) \\\\ \n",
        " &= \\sum_k Pr(X_{t+1}=j | X_t=k) \\cdot Pr(X_t=k|X_0=i) \\\\ \n",
        " P_{ij}(t+1) &= \\sum_k P_{kj} \\cdot P_{ik}(t) = (P^t)_{ij}\n",
        " \\end{align}\n",
        " $$\n",
        "\n",
        "\n",
        "$\\sum_k$ is the sum over all connections from state $k$ to $j$, and $p_{ik}(t)$ is the previous result over all possible pathways from $i$ to $k$ "
      ]
    },
    {
      "cell_type": "markdown",
      "metadata": {
        "id": "TGqgiBiAYrkH"
      },
      "source": [
        "The above is for the t-step transition matrix. \n",
        "For the probability distribution over states we have:\n",
        "\n",
        "$$\n",
        "\\begin{align}\n",
        " Pr(X_{t}=j) &= \\sum_k Pr(X_t=j | X_o=k) \\cdot Pr(X_0=k) \\\\ \n",
        "             &= \\sum_k P_{kj}(t) \\cdot Pr(X_0=k)\n",
        " \\end{align}\n",
        " $$\n",
        "\n",
        "**Simplification**: (in vector notation)\n",
        "\n",
        "$$\\pi(t) = \\pi(0) \\cdot P^t$$"
      ]
    },
    {
      "cell_type": "markdown",
      "metadata": {
        "id": "HnkleWlHFDCe"
      },
      "source": [
        "**Task (5min)**: Matrix Power\n",
        "\n",
        "Explore the function matrix_power() and apply this function to $P$ with an increasing value of $t$ "
      ]
    },
    {
      "cell_type": "code",
      "execution_count": 3,
      "metadata": {
        "id": "05D2BvLVFJus",
        "outputId": "db6a07c5-88ca-4db9-d78e-b643947f27e7",
        "colab": {
          "base_uri": "https://localhost:8080/"
        }
      },
      "outputs": [
        {
          "output_type": "execute_result",
          "data": {
            "text/plain": [
              "array([[0.33386528, 0.66613472],\n",
              "       [0.33306736, 0.66693264]])"
            ]
          },
          "metadata": {},
          "execution_count": 3
        }
      ],
      "source": [
        "#%%script echo Edit before executing\n",
        "from numpy.linalg import matrix_power\n",
        "P = np.array([[0.8, 0.2], [0.1, 0.9]])\n",
        "t= 20\n",
        "matrix_power(P, t)"
      ]
    },
    {
      "cell_type": "markdown",
      "metadata": {
        "id": "CHCFLR49iBW8"
      },
      "source": [
        "<div class=\"alert alert-block alert-warning\">\n",
        "\n",
        "**Task (10 min):** Deja-vu\n",
        "    \n",
        "Starting in state 0 at t=0, calculate the probabilities to be in state 1\n",
        "    \n",
        "a) at time t=1 ?\n",
        "    \n",
        "b) at time t=2 ?\n",
        "    \n",
        "c) at time t=20 ?\n",
        "\n",
        "Solve it using matrix multiplication: https://numpy.org/doc/stable/reference/generated/numpy.linalg.matrix_power.html\n",
        "    \n",
        "</div>"
      ]
    },
    {
      "cell_type": "code",
      "execution_count": 4,
      "metadata": {
        "id": "txhkVX4OiBW9",
        "outputId": "71ca3f3a-a2b9-4924-9412-02d6e0c9560e",
        "colab": {
          "base_uri": "https://localhost:8080/"
        }
      },
      "outputs": [
        {
          "output_type": "stream",
          "name": "stdout",
          "text": [
            "pi_0: [0.5 0.5]\n",
            "pi_t: [0.415 0.585]\n"
          ]
        }
      ],
      "source": [
        "#%%script echo Edit before executing\n",
        "from numpy.linalg import matrix_power\n",
        "pi_0 =   np.array([0.5, 0.5])     # initial probability\n",
        "\n",
        "t=2\n",
        "Pt = matrix_power(P,t)\n",
        "pi_t =   pi_0.dot(Pt)     # dot product of initial probability with P^k\n",
        "\n",
        "print('pi_0:', pi_0)\n",
        "print('pi_t:', pi_t)\n"
      ]
    },
    {
      "cell_type": "markdown",
      "metadata": {
        "id": "ALB14r_AiBW9"
      },
      "source": [
        "<div class=\"alert alert-block alert-warning\">\n",
        "\n",
        "**Task (5 min):** \n",
        "\n",
        "Repeat the above question with state 1 at t=0.\n",
        "\n",
        "    \n",
        "a) at time t=1 ?\n",
        "    \n",
        "b) at time t=2 ?\n",
        "    \n",
        "c) at time t=20 ?\n",
        "    \n",
        "\n",
        "**Extra:** Repeat the above with an uncertain state $\\pi=[0.5, 0.5]$\n",
        "    \n",
        "</div>"
      ]
    },
    {
      "cell_type": "markdown",
      "metadata": {
        "id": "yF7ffFIwONhz"
      },
      "source": [
        "**Question:** What is different?"
      ]
    },
    {
      "cell_type": "markdown",
      "metadata": {
        "id": "nPG6zB0VOM6u"
      },
      "source": [
        "**Lessons**: \n",
        "\n",
        "1. Importance of recursions\n",
        "1. Matrix multiplication is powerful tool (and easy with Python/Numpy)! \n",
        "2. Matrix powers of $(P^t)_{ij}$ give the t-step transition probabilities from $i$ to $j$ \n",
        "3. $\\pi(t) = \\pi(0) \\cdot P^t$ gives the state probability distribution at time $t$\n",
        "4. Important role of linear algebra, efficient algorithms and tools\n",
        "5. Convergence and Independence of Initial State "
      ]
    },
    {
      "cell_type": "markdown",
      "metadata": {
        "id": "TrSiWwiZyoaI"
      },
      "source": [
        "## Long-time Properties\n",
        "\n",
        "Given this image of a Markov Chain, can you speculate on its long-time properties?\n",
        "\n",
        "<div>\n",
        "   <img src=\"https://github.com/thomasmanke/ABS/raw/main/figures/MC_AbsorbingGraph.jpg\",  align=left width=\"800\">\n",
        "</div>"
      ]
    },
    {
      "cell_type": "markdown",
      "metadata": {
        "id": "fvv08HRprAJn"
      },
      "source": [
        "**Task (5 min):** \n",
        "\n",
        "Let's test it numerically! Define the corresponding transition matrix $P$ and run the code cell below."
      ]
    },
    {
      "cell_type": "code",
      "execution_count": 28,
      "metadata": {
        "id": "wn5AuyJr4l_h",
        "outputId": "fb8ef14d-5662-4613-878b-5541be13e973",
        "colab": {
          "base_uri": "https://localhost:8080/",
          "height": 282
        }
      },
      "outputs": [
        {
          "output_type": "stream",
          "name": "stdout",
          "text": [
            "00111222120000122100012201222100100001210000001100112200101221101212200000100101001122200122101012122\n"
          ]
        },
        {
          "output_type": "display_data",
          "data": {
            "text/plain": [
              "<Figure size 432x288 with 1 Axes>"
            ],
            "image/png": "[encoded data removed]"
          },
          "metadata": {
            "needs_background": "light"
          }
        }
      ],
      "source": [
        "#%%script echo Edit before executing\n",
        "P = np.array(\n",
        "    [[0.5,0.5,0.0,0.0],\n",
        "    [0.2,0.5,0.3,0.0],\n",
        "    [0.0,0.3,0.5,0.2],\n",
        "    [0.0,0.0,0.0,1.0]])\n",
        "\n",
        "\n",
        "X = generate_sequence(P)\n",
        "print(*X, sep='')\n",
        "\n",
        "states, counts = np.unique(X, return_counts=True)\n",
        "B = plt.bar(states.astype(str), counts, align='center', width=0.2)"
      ]
    },
    {
      "cell_type": "markdown",
      "metadata": {
        "id": "7cxOfxIDOFCC"
      },
      "source": [
        "**Task (5 min)**: What was the initial state? Modify the above code to chose a different initial state. How does the output change?"
      ]
    },
    {
      "cell_type": "markdown",
      "metadata": {
        "id": "9S0wQGfzSjoL"
      },
      "source": [
        "**Lesson:** Some Markov Chains (transition matrices) can have **absorbing states**. More generally there could be multiple absorbing states."
      ]
    },
    {
      "cell_type": "markdown",
      "metadata": {
        "id": "usoB9DLcTVBm"
      },
      "source": [
        "## Visualizating Matrix Powers"
      ]
    },
    {
      "cell_type": "markdown",
      "metadata": {
        "id": "tiPRxprJO4jh"
      },
      "source": [
        "Let's make the temporal analysis more visually pleasing."
      ]
    },
    {
      "cell_type": "code",
      "execution_count": 29,
      "metadata": {
        "id": "fe4GI9sHN3Nl",
        "outputId": "746c6ce5-daf5-4f04-cc7b-052b8f63c5a2",
        "colab": {
          "base_uri": "https://localhost:8080/",
          "height": 221
        }
      },
      "outputs": [
        {
          "output_type": "display_data",
          "data": {
            "text/plain": [
              "<Figure size 720x360 with 6 Axes>"
            ],
            "image/png": "[encoded data removed]"
          },
          "metadata": {
            "needs_background": "light"
          }
        }
      ],
      "source": [
        "from numpy.linalg import matrix_power\n",
        "fig, ax = plt.subplots(nrows=1, ncols=5, figsize=(10,5))\n",
        "i=0\n",
        "for t in [0,1,2,10,100]:\n",
        "  S=matrix_power(P,t)\n",
        "  im=ax[i].imshow(S, cmap=plt.cm.Blues)\n",
        "  ax[i].set_title(t)\n",
        "  i = i + 1\n",
        "\n",
        "cax = fig.add_axes([0.1, 0.2, 0.8, 0.05])\n",
        "fig.colorbar(im, cax=cax, orientation='horizontal')\n",
        "plt.show()"
      ]
    },
    {
      "cell_type": "markdown",
      "metadata": {
        "id": "bU3m_FwWVdEq"
      },
      "source": [
        "**Discussion**: What do we see here?"
      ]
    },
    {
      "cell_type": "markdown",
      "metadata": {
        "id": "Gnuf-rVhXhom"
      },
      "source": [
        "I'm proud of the above visualization, so let's make it a (slightly more flexible) function."
      ]
    },
    {
      "cell_type": "code",
      "execution_count": 30,
      "metadata": {
        "id": "9JeojLU5WUBV"
      },
      "outputs": [],
      "source": [
        "def plot_transition_matrix(P, tmax=100):\n",
        "\n",
        "  # some sanity checks\n",
        "  assert P.shape[0]==P.shape[1],         \"P should be a squared matrix\"\n",
        "  assert np.allclose( P.sum(axis=1), 1), \"P should be a stochastic matrix\"\n",
        "\n",
        "  fig, ax = plt.subplots(nrows=1, ncols=5, figsize=(10,5))\n",
        "  i=0\n",
        "  for t in [0,1,2,10,tmax]:\n",
        "    S=matrix_power(P,t)\n",
        "    im=ax[i].imshow(S, cmap=plt.cm.Blues)\n",
        "    ax[i].set_title(t)\n",
        "    i = i + 1\n",
        "  cax = fig.add_axes([0.1, 0.2, 0.8, 0.05])\n",
        "  fig.colorbar(im, cax=cax, orientation='horizontal')\n",
        "  plt.show()"
      ]
    },
    {
      "cell_type": "markdown",
      "metadata": {
        "id": "61AzM-xhTEAm"
      },
      "source": [
        "## Convergence Rate"
      ]
    },
    {
      "cell_type": "markdown",
      "metadata": {
        "id": "KH6fOUGCFZRS"
      },
      "source": [
        "We saw that the Markov chain above converges to some asymptotic state - let's explore and modify this behaviour."
      ]
    },
    {
      "cell_type": "markdown",
      "metadata": {
        "id": "7MBilrXqP4Ph"
      },
      "source": [
        "**Group Tasks (30min):** \n",
        "Adjust the parameters in $P$ to\n",
        "\n",
        "1. **delay the convergence** to the absorbing state 3.\n",
        "2. generates **two absorbing states**\n",
        "3. avoid absorbing states"
      ]
    },
    {
      "cell_type": "code",
      "execution_count": 39,
      "metadata": {
        "id": "5ThbITqeP4Pi",
        "tags": [],
        "outputId": "0da9cc6c-94ac-46a1-bce1-c0d9da1eeaac",
        "colab": {
          "base_uri": "https://localhost:8080/",
          "height": 629
        }
      },
      "outputs": [
        {
          "output_type": "display_data",
          "data": {
            "text/plain": [
              "<Figure size 720x360 with 6 Axes>"
            ],
            "image/png": "[encoded data removed]"
          },
          "metadata": {
            "needs_background": "light"
          }
        },
        {
          "output_type": "display_data",
          "data": {
            "text/plain": [
              "<Figure size 720x360 with 6 Axes>"
            ],
            "image/png": "[encoded data removed]"
          },
          "metadata": {
            "needs_background": "light"
          }
        },
        {
          "output_type": "display_data",
          "data": {
            "text/plain": [
              "<Figure size 720x360 with 6 Axes>"
            ],
            "image/png": "[encoded data removed]"
          },
          "metadata": {
            "needs_background": "light"
          }
        }
      ],
      "source": [
        "#%%script echo Edit before eexeecution\n",
        "P = np.array(\n",
        "    [[0.5,0.5,0.0,0.0],\n",
        "    [0.2,0.5,0.3,0.0],\n",
        "    [0.0,0.3,0.5,0.2],\n",
        "    [0.0,0.0,0.0,1.0]])\n",
        "P1=np.array(\n",
        "  [[0.5, 0.5, 0.0, 0.0], \n",
        "  [0.2, 0.5, 0.3, 0.0], \n",
        "  [0.0, 0.3, 0.69, 0.01], \n",
        "  [0.0, 0.0, 0.0, 1.0]])\n",
        "P2=np.array(\n",
        "  [[1.0, 0.0, 0.0, 0.0], \n",
        "  [0.2, 0.5, 0.3, 0.0], \n",
        "  [0.00, 0.30, 0.69, 0.01], \n",
        "  [0.00, 0.00, 0.00, 1.00]])\n",
        "P3=np.array(\n",
        "  [[0.5, 0.5, 0.0, 0.0], \n",
        "  [0.2, 0.5, 0.3, 0.0], \n",
        "  [0.00, 0.30, 0.69, 0.01], \n",
        "  [0.0, 0.0, 0.50, 0.50]])\n",
        "\n",
        "plot_transition_matrix(P1, 100)\n",
        "plot_transition_matrix(P2, 100)\n",
        "plot_transition_matrix(P3, 100)"
      ]
    },
    {
      "cell_type": "markdown",
      "metadata": {
        "id": "zuTuFKdsbSM0"
      },
      "source": [
        "**Lessons:** The long time behaviour depends on model structure and parameters\n",
        "\n",
        "1. Parameters may control convergence rate\n",
        "2. structural aspects (state accessibilty)may cause multiple absorbing states. The Markov chain will still converge. But $\\to$ initial state sensitivity\n",
        "3. some (interesting) Markov chains have a unique stationary state that is independent from the initial state.\n",
        "\n",
        "**Notice:** \n",
        "\n",
        "- stationary distribution (sometimes called steady state distribution) **does not** mean that the states don't change, but that the probability distribution is constant over time (and independent of the initial state)\n",
        "- the power method is a simple but expensive way to determine the stationary distribution $\\pi$, but there are more effcient ways using the eigenvalue formulation\n",
        "$$\\pi = \\pi \\cdot P$$\n",
        "- this formula also exends the idea of the stationary distribution beyond the long-term behaviour of a Markov chain; a stationary distribution is a distribution that stays fixed after application of $P$ (regardless of whether it can be reached through an asymptotic process)\n",
        "- a Markov chain can have several stationary distributions\n",
        "- Many Markov chains have a unique stationary distribution and they are usually the most interesting/important ones. However, we need to be aware of - and protect against - other possibilities (see below)\n",
        "\n"
      ]
    },
    {
      "cell_type": "markdown",
      "metadata": {
        "id": "NIS3MlbCn3vw"
      },
      "source": [
        "## Periodic States"
      ]
    },
    {
      "cell_type": "markdown",
      "metadata": {
        "id": "uWxOoTvsQL1r"
      },
      "source": [
        "Often we want to avoid periodicity as another \"pathological\" condition."
      ]
    },
    {
      "cell_type": "code",
      "execution_count": 40,
      "metadata": {
        "id": "gsxuvstVn6TH",
        "outputId": "f9b86c5b-130b-4dc9-8320-8d570c16ee19",
        "colab": {
          "base_uri": "https://localhost:8080/",
          "height": 221
        }
      },
      "outputs": [
        {
          "output_type": "display_data",
          "data": {
            "text/plain": [
              "<Figure size 720x360 with 6 Axes>"
            ],
            "image/png": "[encoded data removed]"
          },
          "metadata": {
            "needs_background": "light"
          }
        }
      ],
      "source": [
        "P=np.array([[0.0,1.0,0.0],\n",
        "            [0.5,0.0,0.5],\n",
        "            [0.0,1.0,0.0]])\n",
        "\n",
        "plot_transition_matrix(P, 11)"
      ]
    },
    {
      "cell_type": "markdown",
      "metadata": {
        "id": "EScwBo45qk-s"
      },
      "source": [
        "\n",
        "\n",
        "**Notice:** any self-transition ($P_{ii} \\ne 0$) will result in an aperiodic Markov chain."
      ]
    },
    {
      "cell_type": "markdown",
      "metadata": {
        "id": "GLDDDNttHZrZ"
      },
      "source": [
        "## Summary \n",
        "\n",
        "We have seen different possible behaviours of Markov chains\n",
        "1. convergence to unique state (stationary or absorbing)\n",
        "2. convergence to non-unique state: inital state sensitivity\n",
        "3. periodic behaviour\n",
        "\n",
        "\"Nice\" Markov chains are \"ergodic\" (everything that can happen will eventually happen) and \"non-periodic\"\n"
      ]
    },
    {
      "cell_type": "markdown",
      "metadata": {
        "id": "idrA5RrcZ3mU"
      },
      "source": [
        "## Expected Times: Convergence and Return"
      ]
    },
    {
      "cell_type": "markdown",
      "metadata": {
        "id": "WJNT1vo7aE8f"
      },
      "source": [
        "### Convergence Time"
      ]
    },
    {
      "cell_type": "markdown",
      "metadata": {
        "id": "IoD6u3V74PiF"
      },
      "source": [
        "The convergence of a Markov chain $P$ to its stationary distribution $\\pi$ is a very important property. \n",
        "\n",
        "Starting from state $\\pi_0=(1, 0)$ the approximation to the stationary distribution\n",
        "is given by\n",
        "\n",
        "$$\n",
        "\\pi_t = \\pi_0 P^t\n",
        "$$\n",
        "\n",
        "The distance from the stationary distribution is given by the Euclidean norm\n",
        "$$\n",
        "\\delta(t) = ||\\pi_t - \\pi||\n",
        "$$\n",
        "\n",
        "see also numpy: np.linalg.norm()"
      ]
    },
    {
      "cell_type": "markdown",
      "metadata": {
        "id": "FAqmWd3l55Be"
      },
      "source": [
        "**Task (10 min)**: \n",
        "\n",
        "Asymptotically the Markov chain defined by $P$ (above) has stationary distribution $\\pi=(1/3, 2/3)$. Calculate the distance of $\\delta(t)$ and plot it logarithmically against $t=1 \\ldots 50$."
      ]
    },
    {
      "cell_type": "code",
      "source": [
        "?np.linalg.norm\n"
      ],
      "metadata": {
        "id": "kzlaAE07_qwf"
      },
      "execution_count": 49,
      "outputs": []
    },
    {
      "cell_type": "code",
      "execution_count": 5,
      "metadata": {
        "id": "c6l2Finu0X3t",
        "outputId": "0286bad1-4ce3-472e-e42a-c68df80e17ea",
        "colab": {
          "base_uri": "https://localhost:8080/",
          "height": 1000
        }
      },
      "outputs": [
        {
          "output_type": "stream",
          "name": "stdout",
          "text": [
            "[1. 0.] 0.9428090415820634\n",
            "[0.8 0.2] 0.6599663291074443\n",
            "[0.66 0.34] 0.46197643037521113\n",
            "[0.562 0.438] 0.3233835012626478\n",
            "[0.4934 0.5066] 0.22636845088385346\n",
            "[0.44538 0.55462] 0.15845791561869738\n",
            "[0.411766 0.588234] 0.11092054093308815\n",
            "[0.3882362 0.6117638] 0.07764437865316166\n",
            "[0.37176534 0.62823466] 0.054351065057213155\n",
            "[0.36023574 0.63976426] 0.03804574554004919\n",
            "[0.35216502 0.64783498] 0.026632021878034366\n",
            "[0.34651551 0.65348449] 0.018642415314624107\n",
            "[0.34256086 0.65743914] 0.013049690720236722\n",
            "[0.3397926 0.6602074] 0.00913478350416564\n",
            "[0.33785482 0.66214518] 0.006394348452915924\n",
            "[0.33649837 0.66350163] 0.004476043917041072\n",
            "[0.33554886 0.66445114] 0.0031332307419286755\n",
            "[0.3348842 0.6651158] 0.0021932615193500336\n",
            "[0.33441894 0.66558106] 0.0015352830635449177\n",
            "[0.33409326 0.66590674] 0.0010746981444813442\n",
            "[0.33386528 0.66613472] 0.0007522887011368664\n",
            "[0.3337057 0.6662943] 0.0005266020907957122\n",
            "[0.33359399 0.66640601] 0.00036862146355694366\n",
            "[0.33351579 0.66648421] 0.0002580350244897624\n",
            "[0.33346105 0.66653895] 0.00018062451714271987\n",
            "[0.33342274 0.66657726] 0.00012643716199980183\n",
            "[0.33339592 0.66660408] 8.850601339978672e-05\n",
            "[0.33337714 0.66662286] 6.195420937969369e-05\n",
            "[0.333364 0.666636] 4.3367946565616796e-05\n",
            "[0.3333548 0.6666452] 3.0357562595825775e-05\n",
            "[0.33334836 0.66665164] 2.1250293816948512e-05\n",
            "[0.33334385 0.66665615] 1.487520567173835e-05\n",
            "[0.3333407 0.6666593] 1.041264397003236e-05\n",
            "[0.33333849 0.66666151] 7.288850778955923e-06\n",
            "[0.33333694 0.66666306] 5.1021955450885855e-06\n",
            "[0.33333586 0.66666414] 3.5715368814050006e-06\n",
            "[0.3333351 0.6666649] 2.5000758167322858e-06\n",
            "[0.33333457 0.66666543] 1.7500530715320393e-06\n",
            "[0.3333342 0.6666658] 1.2250371499036426e-06\n",
            "[0.33333394 0.66666606] 8.575260047441387e-07\n",
            "[0.33333376 0.66666624] 6.002682031521121e-07\n",
            "[0.33333363 0.66666637] 4.201877420062917e-07\n",
            "[0.33333354 0.66666646] 2.941314192159931e-07\n",
            "[0.33333348 0.66666652] 2.0589199329418595e-07\n",
            "[0.33333344 0.66666656] 1.4412439503508922e-07\n",
            "[0.3333334 0.6666666] 1.0088707637147846e-07\n",
            "[0.33333338 0.66666662] 7.062095322452106e-08\n",
            "[0.33333337 0.66666663] 4.9434667033426596e-08\n",
            "[0.33333336 0.66666664] 3.4604266668258645e-08\n",
            "[0.33333335 0.66666665] 2.4222986471519555e-08\n",
            "[0.33333335 0.66666665] 1.6956090255297608e-08\n",
            "[0.33333334 0.66666666] 1.1869262943194592e-08\n",
            "[0.33333334 0.66666666] 8.308483816872113e-09\n",
            "[0.33333334 0.66666666] 5.81593844807259e-09\n",
            "[0.33333334 0.66666666] 4.071156638885104e-09\n",
            "[0.33333334 0.66666666] 2.8498093881549915e-09\n",
            "[0.33333333 0.66666667] 1.9948663322704397e-09\n",
            "[0.33333333 0.66666667] 1.3964061617498561e-09\n",
            "[0.33333333 0.66666667] 9.774840227599923e-10\n",
            "[0.33333333 0.66666667] 6.84238521542884e-10\n",
            "[0.33333333 0.66666667] 4.789666746183838e-10\n",
            "[0.33333333 0.66666667] 3.3527636607196863e-10\n",
            "[0.33333333 0.66666667] 2.3469322074618543e-10\n",
            "[0.33333333 0.66666667] 1.6428497584582452e-10\n",
            "[0.33333333 0.66666667] 1.1499914554727166e-10\n",
            "[0.33333333 0.66666667] 8.049915069955459e-11\n",
            "[0.33333333 0.66666667] 5.63490483461676e-11\n",
            "[0.33333333 0.66666667] 3.944401989410876e-11\n",
            "[0.33333333 0.66666667] 2.7610468615427944e-11\n",
            "[0.33333333 0.66666667] 1.9327014169555706e-11\n",
            "[0.33333333 0.66666667] 1.3528545101978657e-11\n",
            "[0.33333333 0.66666667] 9.46969927604364e-12\n",
            "[0.33333333 0.66666667] 6.628421042952809e-12\n",
            "[0.33333333 0.66666667] 4.639585338103712e-12\n",
            "[0.33333333 0.66666667] 3.247306527199993e-12\n",
            "[0.33333333 0.66666667] 2.2727903335695603e-12\n",
            "[0.33333333 0.66666667] 1.5905474701564915e-12\n",
            "[0.33333333 0.66666667] 1.1130843083138352e-12\n",
            "[0.33333333 0.66666667] 7.788144188795492e-13\n",
            "[0.33333333 0.66666667] 5.44796690172042e-13\n",
            "[0.33333333 0.66666667] 3.8096431143256647e-13\n",
            "[0.33333333 0.66666667] 2.6631660948589257e-13\n",
            "[0.33333333 0.66666667] 1.860606351044773e-13\n",
            "[0.33333333 0.66666667] 1.2987034032189172e-13\n",
            "[0.33333333 0.66666667] 9.05704027612326e-14\n",
            "[0.33333333 0.66666667] 6.306147407347996e-14\n",
            "[0.33333333 0.66666667] 4.3811101303841127e-14\n",
            "[0.33333333 0.66666667] 3.0442388216295904e-14\n",
            "[0.33333333 0.66666667] 2.1093360957806007e-14\n",
            "[0.33333333 0.66666667] 1.4749783998618188e-14\n",
            "[0.33333333 0.66666667] 1.0395861869767154e-14\n",
            "[0.33333333 0.66666667] 7.592862261839423e-15\n",
            "[0.33333333 0.66666667] 5.9655765760205525e-15\n",
            "[0.33333333 0.66666667] 5.1085341457628335e-15\n",
            "[0.33333333 0.66666667] 4.731491273748397e-15\n",
            "[0.33333333 0.66666667] 4.606087739868813e-15\n",
            "[0.33333333 0.66666667] 4.794569825980851e-15\n",
            "[0.33333333 0.66666667] 4.751962059186864e-15\n",
            "[0.33333333 0.66666667] 4.866020253582432e-15\n",
            "[0.33333333 0.66666667] 4.86633687656182e-15\n"
          ]
        },
        {
          "output_type": "display_data",
          "data": {
            "text/plain": [
              "<Figure size 432x288 with 1 Axes>"
            ],
            "image/png": "[encoded data removed]"
          },
          "metadata": {
            "needs_background": "light"
          }
        }
      ],
      "source": [
        "#%%script echo Edit before executing\n",
        "\n",
        "P  = np.array([[0.8, 0.2],[0.1,0.9]])  # transition matrix\n",
        "pi = np.array([1./3, 2./3])            # stationatry distribution\n",
        "T  = 100                                # maximal number of times\n",
        "\n",
        "pi_0 = np.array([1,0])                 # initial distribution\n",
        "\n",
        "dist = np.zeros(T)                     # initialize T distances\n",
        "for t in range(T):\n",
        "  pi_t =pi_0.dot(matrix_power(P,t))       # hint: P^t\n",
        "  #print(pi_t)\n",
        "  dist[t] = np.linalg.norm(pi_t-pi) # calculate distance --> hint: np.linalg.norm\n",
        "  print(pi_t, dist[t])\n",
        "\n",
        "plt.plot(dist)\n",
        "plt.yscale('log')\n",
        "plt.xlabel('time')\n",
        "plt.ylabel('distance from stationary')\n",
        "plt.show()"
      ]
    },
    {
      "cell_type": "markdown",
      "metadata": {
        "id": "UJ0lYpbq5iVT"
      },
      "source": [
        "**Message**: The convergence is exponential. The precise rate is controlled by matrix properties of $P$ (its eigenvalues)."
      ]
    },
    {
      "cell_type": "markdown",
      "metadata": {
        "id": "a7d-wT9JgaYV"
      },
      "source": [
        "### State Duration\n",
        "\n",
        "How long is the expected stay $E[t_i]$ in a given state $i$?"
      ]
    },
    {
      "cell_type": "markdown",
      "metadata": {
        "id": "Aic8mxrHgwEo"
      },
      "source": [
        "$$\n",
        "Pr(X_1=i, X_2=i, \\ldots X_{t}=i, X_{t+1} \\ne i) = p_{ii}^{t-1} (1-p_{ii}) \\equiv p_i(t) \\\\ \\\\\n",
        "E[t_i] = \\sum_{t=1}^\\infty t p_i(t) = (1-p_{ii}) \\sum_t t p_{ii}^{t-1} = \\frac{1}{1-p_{ii}}\n",
        "$$"
      ]
    },
    {
      "cell_type": "markdown",
      "metadata": {
        "id": "W_jl6iRbiQb2"
      },
      "source": [
        "**Task (10 min):** Define your favorite Markov Model (transition matrix) and generate a (sufficiently) long sequence from it. Pick a specific state $i$ and confirm the above formula. A simple helper function is provided below, but try to understand it."
      ]
    },
    {
      "cell_type": "code",
      "execution_count": null,
      "metadata": {
        "id": "wYV1f6zIlJ0p"
      },
      "outputs": [],
      "source": [
        "def StateDuration(L, s=0):\n",
        "  # helper function to calculate the \"duration\" of a given element s in list L\n",
        "  # --> calculate the length of consecutive occurences\n",
        "  count=0\n",
        "  res=[]\n",
        "  for e in L:\n",
        "    if e==s:\n",
        "      count +=1\n",
        "    else:\n",
        "      if (count > 0):\n",
        "        res.append(count)\n",
        "      count=0\n",
        "\n",
        "  if (count>0):\n",
        "    res.append(count)\n",
        "  return res"
      ]
    },
    {
      "cell_type": "code",
      "execution_count": null,
      "metadata": {
        "id": "1Q1vGS29iaKi"
      },
      "outputs": [],
      "source": [
        "%%script echo Edit before executing\n",
        "P = np.array( ... your choice here)  # chose transition matrix\n",
        "i=0                                   # chose states\n",
        "\n",
        "X=generate_sequence(P, T= ... )\n",
        "\n",
        "exp = ... # expected duration\n",
        "res = StateDuration(...)\n",
        "print('expected duration: {} average: {}'.format(exp, sum(res)/len(res)))"
      ]
    },
    {
      "cell_type": "markdown",
      "metadata": {
        "id": "UCPqgKSSgk2Y"
      },
      "source": [
        "# Parameter Estimation"
      ]
    },
    {
      "cell_type": "markdown",
      "metadata": {
        "id": "4rfKNz30To0V"
      },
      "source": [
        "Given transition rates $P_{ij}$ we can calculate (or simulate) many interesting quantities (path probabilities, stationary states, absorbing states, mixing times, ...).\n",
        "\n",
        "How can we estimate (learn) these model parameters?\n",
        "\n",
        "Frequency interpretation:\n",
        "\n",
        "$$\n",
        "P_{ij} = \\frac{N_{ij}}{\\sum_j N_{ij}}\n",
        "$$\n",
        "\n",
        "\n",
        "Remember: All models are wrong, some are useful."
      ]
    },
    {
      "cell_type": "markdown",
      "metadata": {
        "id": "qC3u7vVSIpbK"
      },
      "source": [
        "**Group Task (15 min):** Given a sequence of states. Complete the code below to obtain the parameters of the Markov Chain."
      ]
    },
    {
      "cell_type": "code",
      "execution_count": 9,
      "metadata": {
        "id": "pyqdq3oRJDBm",
        "outputId": "3d08bc37-c08f-4079-9023-4741b7d04426",
        "colab": {
          "base_uri": "https://localhost:8080/"
        }
      },
      "outputs": [
        {
          "output_type": "stream",
          "name": "stdout",
          "text": [
            "[[0. 2.]\n",
            " [2. 2.]]\n",
            "estimated transition matrix: \n",
            " [[0.  1. ]\n",
            " [0.5 0.5]]\n"
          ]
        }
      ],
      "source": [
        "#%%script echo Edit before executing\n",
        "import numpy as np\n",
        "X=[0,1,1,1,0,1,0]\n",
        "L=len(X)      # length of observed sequence\n",
        "N=2         # number of states \n",
        "\n",
        "P = np.zeros((N,N))\n",
        "#print(P)\n",
        "for t in range(L-1):\n",
        "  current_state=X[t]\n",
        "  next_state= X[t+1]\n",
        "  P[current_state,next_state] += 1\n",
        "print(P)\n",
        "\n",
        "# normalize rows\n",
        "P = P/np.sum(P,axis=1, keepdims=True)\n",
        "print('estimated transition matrix: \\n', P)"
      ]
    },
    {
      "cell_type": "markdown",
      "metadata": {
        "id": "9_MPVEXSR5Wz"
      },
      "source": [
        "**Question:** How would you estimate the intial probabiltiy?"
      ]
    }
  ],
  "metadata": {
    "colab": {
      "collapsed_sections": [
        "GLDDDNttHZrZ"
      ],
      "provenance": []
    },
    "kernelspec": {
      "display_name": "Python 3.10.7 64-bit",
      "language": "python",
      "name": "python3"
    },
    "language_info": {
      "codemirror_mode": {
        "name": "ipython",
        "version": 3
      },
      "file_extension": ".py",
      "mimetype": "text/x-python",
      "name": "python",
      "nbconvert_exporter": "python",
      "pygments_lexer": "ipython3",
      "version": "3.10.7"
    },
    "vscode": {
      "interpreter": {
        "hash": "aee8b7b246df8f9039afb4144a1f6fd8d2ca17a180786b69acc140d282b71a49"
      }
    }
  },
  "nbformat": 4,
  "nbformat_minor": 0
}